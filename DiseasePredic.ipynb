{
  "nbformat": 4,
  "nbformat_minor": 0,
  "metadata": {
    "colab": {
      "name": "DiseasePredic.ipynb",
      "provenance": [],
      "collapsed_sections": [],
      "mount_file_id": "1rIdbB0RwuSTnAq1hBklYPbQIhSqzH3oN",
      "authorship_tag": "ABX9TyPdAtROIZycSaNpm047EAcA",
      "include_colab_link": true
    },
    "kernelspec": {
      "name": "python3",
      "display_name": "Python 3"
    }
  },
  "cells": [
    {
      "cell_type": "markdown",
      "metadata": {
        "id": "view-in-github",
        "colab_type": "text"
      },
      "source": [
        "<a href=\"https://colab.research.google.com/github/SabidHossain/WCF-test-project/blob/master/DiseasePredic.ipynb\" target=\"_parent\"><img src=\"https://colab.research.google.com/assets/colab-badge.svg\" alt=\"Open In Colab\"/></a>"
      ]
    },
    {
      "cell_type": "code",
      "metadata": {
        "colab": {
          "base_uri": "https://localhost:8080/"
        },
        "id": "FhyFpCr0f_7k",
        "outputId": "656db335-9537-48e9-9efe-deb42a36e8c9"
      },
      "source": [
        "import numpy as np\r\n",
        "import pandas as pd\r\n",
        "import matplotlib.pyplot as plt\r\n",
        "\r\n",
        "## data preprocessing\r\n",
        "df = pd.read_csv(\"/content/drive/MyDrive/ML Project/dataset.csv\") \r\n",
        "# Choose entries with disease\r\n",
        "df_new = df #[df['Disease'] == 'Fungal infection'] \r\n",
        "col_distinct_sympton = []\r\n",
        "distinct_sympton = []\r\n",
        "distinct_disease = []\r\n",
        "temp = {}\r\n",
        "for i in range(len(df_new)) : \r\n",
        "    r_disease = df_new.iloc[i, 0]\r\n",
        "    df_row = df_new[df_new['Disease'] == r_disease] \r\n",
        "    if r_disease not in distinct_disease:\r\n",
        "      temp1 = []\r\n",
        "      for j in range(len(df_row)):\r\n",
        "        for k in range(1,len(df_row.columns)):\r\n",
        "          if str(df_row.iloc[j,k])!=\"nan\" and df_row.iloc[j,k].replace(\" \",\"\") not in temp1:\r\n",
        "              temp1.append(df_row.iloc[j,k].replace(\" \",\"\"))\r\n",
        "          if str(df_row.iloc[j,k])!=\"nan\" and df_row.iloc[j,k].replace(\" \",\"\") not in distinct_sympton:\r\n",
        "              distinct_sympton.append(df_row.iloc[j,k].replace(\" \",\"\"))\r\n",
        "              col_distinct_sympton.append(df_row.iloc[j,k].replace(\" \",\"\"))\r\n",
        "      temp[r_disease]=temp1\r\n",
        "      distinct_disease.append(r_disease)\r\n",
        "print(list(temp)[:2])\r\n",
        "col_distinct_sympton.append(\"Disease\")"
      ],
      "execution_count": 47,
      "outputs": [
        {
          "output_type": "stream",
          "text": [
            "['Fungal infection', 'Allergy']\n"
          ],
          "name": "stdout"
        }
      ]
    },
    {
      "cell_type": "code",
      "metadata": {
        "colab": {
          "base_uri": "https://localhost:8080/"
        },
        "id": "C6S6RBhb34hw",
        "outputId": "c0610d8f-027c-4f7e-cc19-7d6a8371153b"
      },
      "source": [
        "\r\n",
        "## data preprocessing\r\n",
        "#################################################################### 2\r\n",
        "df_processedData = pd.DataFrame(columns = col_distinct_sympton)\r\n",
        "df_TestingData = pd.DataFrame(columns = col_distinct_sympton)\r\n",
        "#print(col_distinct_sympton)\r\n",
        "key_disease_array = []\r\n",
        "key_sympton = []\r\n",
        "df_new = df#[df['Disease'] == 'Fungal infection'] \r\n",
        "for i in range(len(df_new)) : \r\n",
        "    temp_row = df_new.loc[i,:].values.tolist() \r\n",
        "    temp_row = [str(x).replace(' ', '') for x in temp_row]\r\n",
        "    #print(temp_row)\r\n",
        "\r\n",
        "    key_disease = df_new.iloc[i, 0]\r\n",
        "    if key_disease not in key_disease_array:\r\n",
        "      key_disease_array.append(key_disease)\r\n",
        "      key_sympton = []\r\n",
        "      for key, val in temp.items():\r\n",
        "        if key==key_disease:\r\n",
        "          key_sympton = temp[key]     \r\n",
        "          break  \r\n",
        "    for j in range(len(distinct_sympton)):\r\n",
        "      symp = distinct_sympton[j]\r\n",
        "      if symp in temp_row:\r\n",
        "        #print(symp)\r\n",
        "        df_processedData.at[i, symp] = 1\r\n",
        "      else:\r\n",
        "        df_processedData.at[i, symp] = 0\r\n",
        "    df_processedData.at[i,\"Disease\"] = key_disease\r\n",
        "\r\n",
        "#df_processedData.loc[key_disease,'Disease'] = key_disease  ##this will make single ling\r\n",
        "print(df_processedData.head())\r\n",
        "df_processedData.to_excel(\"/content/drive/MyDrive/ML Project/processedDisease.xlsx\",sheet_name='DisSymp')"
      ],
      "execution_count": 48,
      "outputs": [
        {
          "output_type": "stream",
          "text": [
            "  itching skin_rash  ... yellow_crust_ooze           Disease\n",
            "0       1         1  ...                 0  Fungal infection\n",
            "1       0         1  ...                 0  Fungal infection\n",
            "2       1         0  ...                 0  Fungal infection\n",
            "3       1         1  ...                 0  Fungal infection\n",
            "4       1         1  ...                 0  Fungal infection\n",
            "\n",
            "[5 rows x 132 columns]\n"
          ],
          "name": "stdout"
        }
      ]
    },
    {
      "cell_type": "code",
      "metadata": {
        "colab": {
          "base_uri": "https://localhost:8080/"
        },
        "id": "71-NTf_A7V5m",
        "outputId": "b797a25e-6707-467a-8cd3-76cb5f740422"
      },
      "source": [
        "########################\r\n",
        "\r\n",
        "## data preprocessing\r\n",
        "df_p = pd.read_excel(\"/content/drive/MyDrive/ML Project/processedDisease.xlsx\") \r\n",
        "length_df_p = len(df_p.columns)\r\n",
        "df_main=df_p.iloc[:,1:length_df_p]\r\n",
        "#df_main = pd.read_csv(\"/content/training.csv\") \r\n",
        "#print(df_main.head())\r\n",
        "### Data Preprocessing \r\n",
        "X = df_main.iloc[:, : -1].values\r\n",
        "y = df_main.iloc[:, 131:132].values\r\n",
        "#print(X)\r\n",
        "#print(y)\r\n",
        "from sklearn.model_selection import train_test_split\r\n",
        "\r\n",
        "X_train, X_test, y_train, y_test = train_test_split(X,y,test_size = 0.30)\r\n",
        "\r\n",
        "\r\n",
        "\r\n",
        "### train the model with KNeightborsClassifier class of sklearn\r\n",
        "from sklearn.neighbors import KNeighborsClassifier\r\n",
        "classifier = KNeighborsClassifier(n_neighbors = 3)\r\n",
        "classifier.fit(X_train,y_train)\r\n",
        "y_pred = classifier.predict(X_test)\r\n",
        "\r\n",
        "print(y_pred)"
      ],
      "execution_count": 49,
      "outputs": [
        {
          "output_type": "stream",
          "text": [
            "/usr/local/lib/python3.6/dist-packages/ipykernel_launcher.py:23: DataConversionWarning: A column-vector y was passed when a 1d array was expected. Please change the shape of y to (n_samples, ), for example using ravel().\n"
          ],
          "name": "stderr"
        },
        {
          "output_type": "stream",
          "text": [
            "['Hypertension ' 'Bronchial Asthma' 'Hepatitis C' ... 'Acne'\n",
            " 'Alcoholic hepatitis' 'Diabetes ']\n"
          ],
          "name": "stdout"
        }
      ]
    },
    {
      "cell_type": "code",
      "metadata": {
        "id": "nUgsLSCD8F_a",
        "colab": {
          "base_uri": "https://localhost:8080/"
        },
        "outputId": "f8b2fc5a-9efb-49d0-90c7-5b6bb6fd16ee"
      },
      "source": [
        "###Print the result\r\n",
        "from sklearn.metrics import classification_report,confusion_matrix,accuracy_score\r\n",
        "result = confusion_matrix(y_test,y_pred)\r\n",
        "print(\"Confusion Matrix:\")\r\n",
        "print(result)\r\n",
        "result1= classification_report(y_test,y_pred)\r\n",
        "print(\"Classification Report:\",)\r\n",
        "print(result1)\r\n",
        "result2=accuracy_score(y_test,y_pred)\r\n",
        "print(\"Accuracy:\",result2)"
      ],
      "execution_count": 50,
      "outputs": [
        {
          "output_type": "stream",
          "text": [
            "Confusion Matrix:\n",
            "[[42  0  0 ...  0  0  0]\n",
            " [ 0 33  0 ...  0  0  0]\n",
            " [ 0  0 41 ...  0  0  0]\n",
            " ...\n",
            " [ 0  0  0 ... 38  0  0]\n",
            " [ 0  0  0 ...  0 36  0]\n",
            " [ 0  0  0 ...  0  0 37]]\n",
            "Classification Report:\n",
            "                                         precision    recall  f1-score   support\n",
            "\n",
            "(vertigo) Paroymsal  Positional Vertigo       1.00      1.00      1.00        42\n",
            "                                   AIDS       1.00      1.00      1.00        33\n",
            "                                   Acne       1.00      1.00      1.00        41\n",
            "                    Alcoholic hepatitis       1.00      1.00      1.00        36\n",
            "                                Allergy       1.00      1.00      1.00        31\n",
            "                              Arthritis       1.00      1.00      1.00        34\n",
            "                       Bronchial Asthma       1.00      1.00      1.00        34\n",
            "                   Cervical spondylosis       1.00      1.00      1.00        39\n",
            "                            Chicken pox       1.00      1.00      1.00        35\n",
            "                    Chronic cholestasis       1.00      1.00      1.00        37\n",
            "                            Common Cold       1.00      1.00      1.00        32\n",
            "                                 Dengue       1.00      1.00      1.00        38\n",
            "                              Diabetes        1.00      1.00      1.00        41\n",
            "           Dimorphic hemmorhoids(piles)       1.00      1.00      1.00        36\n",
            "                          Drug Reaction       1.00      1.00      1.00        35\n",
            "                       Fungal infection       1.00      1.00      1.00        33\n",
            "                                   GERD       1.00      1.00      1.00        33\n",
            "                        Gastroenteritis       1.00      1.00      1.00        48\n",
            "                           Heart attack       1.00      1.00      1.00        36\n",
            "                            Hepatitis B       1.00      1.00      1.00        33\n",
            "                            Hepatitis C       1.00      1.00      1.00        35\n",
            "                            Hepatitis D       1.00      1.00      1.00        34\n",
            "                            Hepatitis E       1.00      1.00      1.00        36\n",
            "                          Hypertension        1.00      1.00      1.00        35\n",
            "                        Hyperthyroidism       1.00      1.00      1.00        33\n",
            "                           Hypoglycemia       1.00      1.00      1.00        26\n",
            "                         Hypothyroidism       1.00      1.00      1.00        29\n",
            "                               Impetigo       1.00      1.00      1.00        27\n",
            "                               Jaundice       1.00      1.00      1.00        33\n",
            "                                Malaria       1.00      1.00      1.00        37\n",
            "                               Migraine       1.00      1.00      1.00        42\n",
            "                        Osteoarthristis       1.00      1.00      1.00        38\n",
            "           Paralysis (brain hemorrhage)       1.00      1.00      1.00        34\n",
            "                    Peptic ulcer diseae       1.00      1.00      1.00        46\n",
            "                              Pneumonia       1.00      1.00      1.00        40\n",
            "                              Psoriasis       1.00      1.00      1.00        43\n",
            "                           Tuberculosis       1.00      1.00      1.00        37\n",
            "                                Typhoid       1.00      1.00      1.00        33\n",
            "                Urinary tract infection       1.00      1.00      1.00        38\n",
            "                         Varicose veins       1.00      1.00      1.00        36\n",
            "                            hepatitis A       1.00      1.00      1.00        37\n",
            "\n",
            "                               accuracy                           1.00      1476\n",
            "                              macro avg       1.00      1.00      1.00      1476\n",
            "                           weighted avg       1.00      1.00      1.00      1476\n",
            "\n",
            "Accuracy: 1.0\n"
          ],
          "name": "stdout"
        }
      ]
    },
    {
      "cell_type": "code",
      "metadata": {
        "id": "qry58vcU-RRz",
        "colab": {
          "base_uri": "https://localhost:8080/"
        },
        "outputId": "fcda3b13-95f5-45c7-b4ae-1de5d1d364f3"
      },
      "source": [
        "\r\n",
        "\r\n",
        "\r\n",
        "\r\n",
        "################################################################# 5\r\n",
        "\r\n",
        "#### testing with testing.csv data on prepared classifier\r\n",
        "df_test = pd.read_csv(\"/content/drive/MyDrive/ML Project/testing.csv\") \r\n",
        "T_s = df_test.iloc[:, : -1].values\r\n",
        "T_d = df_test.iloc[:,-1:]\r\n",
        "#print(T_s)\r\n",
        "#print(len(T_d.columns))\r\n",
        "T_pred = classifier.predict(T_s)\r\n",
        "#print(T_d.values.tolist())\r\n",
        "#print(T_pred)\r\n",
        "\r\n",
        "\r\n",
        "###Print the result\r\n",
        "from sklearn.metrics import classification_report,confusion_matrix,accuracy_score\r\n",
        "result = confusion_matrix(T_d,T_pred)\r\n",
        "print(\"Confusion Matrix:\")\r\n",
        "print(result)\r\n",
        "result1= classification_report(T_d,T_pred)\r\n",
        "print(\"Classification Report:\",)\r\n",
        "print(result1)\r\n",
        "result2=accuracy_score(T_d,T_pred)\r\n",
        "print(\"Accuracy:\",result2)"
      ],
      "execution_count": 51,
      "outputs": [
        {
          "output_type": "stream",
          "text": [
            "Confusion Matrix:\n",
            "[[1 0 0 ... 0 0 0]\n",
            " [0 1 0 ... 0 0 0]\n",
            " [0 0 1 ... 0 0 0]\n",
            " ...\n",
            " [0 0 0 ... 1 0 0]\n",
            " [0 0 0 ... 0 1 0]\n",
            " [0 0 0 ... 0 0 1]]\n",
            "Classification Report:\n",
            "                                         precision    recall  f1-score   support\n",
            "\n",
            "(vertigo) Paroymsal  Positional Vertigo       1.00      1.00      1.00         1\n",
            "                                   AIDS       1.00      1.00      1.00         1\n",
            "                                   Acne       1.00      1.00      1.00         1\n",
            "                    Alcoholic hepatitis       1.00      1.00      1.00         1\n",
            "                                Allergy       1.00      1.00      1.00         1\n",
            "                              Arthritis       1.00      1.00      1.00         1\n",
            "                       Bronchial Asthma       1.00      1.00      1.00         1\n",
            "                   Cervical spondylosis       1.00      1.00      1.00         1\n",
            "                            Chicken pox       1.00      1.00      1.00         1\n",
            "                    Chronic cholestasis       1.00      1.00      1.00         1\n",
            "                            Common Cold       1.00      1.00      1.00         1\n",
            "                                 Dengue       1.00      1.00      1.00         1\n",
            "                              Diabetes        1.00      1.00      1.00         1\n",
            "           Dimorphic hemmorhoids(piles)       1.00      1.00      1.00         1\n",
            "                          Drug Reaction       1.00      1.00      1.00         1\n",
            "                       Fungal infection       1.00      1.00      1.00         1\n",
            "                                   GERD       1.00      1.00      1.00         1\n",
            "                        Gastroenteritis       1.00      1.00      1.00         1\n",
            "                           Heart attack       1.00      1.00      1.00         1\n",
            "                            Hepatitis B       1.00      1.00      1.00         1\n",
            "                            Hepatitis C       1.00      1.00      1.00         1\n",
            "                            Hepatitis D       1.00      1.00      1.00         1\n",
            "                            Hepatitis E       1.00      1.00      1.00         1\n",
            "                          Hypertension        1.00      1.00      1.00         1\n",
            "                        Hyperthyroidism       1.00      1.00      1.00         1\n",
            "                           Hypoglycemia       1.00      1.00      1.00         1\n",
            "                         Hypothyroidism       1.00      1.00      1.00         1\n",
            "                               Impetigo       1.00      1.00      1.00         1\n",
            "                               Jaundice       1.00      1.00      1.00         1\n",
            "                                Malaria       1.00      1.00      1.00         1\n",
            "                               Migraine       1.00      1.00      1.00         1\n",
            "                        Osteoarthristis       1.00      1.00      1.00         1\n",
            "           Paralysis (brain hemorrhage)       1.00      1.00      1.00         1\n",
            "                    Peptic ulcer diseae       1.00      1.00      1.00         1\n",
            "                              Pneumonia       1.00      1.00      1.00         1\n",
            "                              Psoriasis       1.00      1.00      1.00         1\n",
            "                           Tuberculosis       1.00      1.00      1.00         1\n",
            "                                Typhoid       1.00      1.00      1.00         1\n",
            "                Urinary tract infection       1.00      1.00      1.00         1\n",
            "                         Varicose veins       1.00      1.00      1.00         1\n",
            "                            hepatitis A       1.00      1.00      1.00         1\n",
            "\n",
            "                               accuracy                           1.00        41\n",
            "                              macro avg       1.00      1.00      1.00        41\n",
            "                           weighted avg       1.00      1.00      1.00        41\n",
            "\n",
            "Accuracy: 1.0\n"
          ],
          "name": "stdout"
        }
      ]
    },
    {
      "cell_type": "code",
      "metadata": {
        "id": "Gtp_ljAdaSUO",
        "colab": {
          "base_uri": "https://localhost:8080/"
        },
        "outputId": "e8b4217c-eac9-4048-abf7-c417d57a795d"
      },
      "source": [
        "\r\n",
        "########################################################## 6\r\n",
        "\r\n",
        "#### testing with real life input data on prepared classifier\r\n",
        "# print(distinct_sympton)\r\n",
        "input_sympton=['vomiting', 'swelling_of_stomach', 'fatigue',' loss_of_appetite']\r\n",
        "# ,'abdominal_pain','yellowing_of_eyes'\r\n",
        "# 'chills', 'watering_from_eyes']\r\n",
        "# input_sympton=['itching']\r\n",
        "\r\n",
        "for j in range(len(distinct_sympton)):\r\n",
        "    symp = distinct_sympton[j]\r\n",
        "    if symp in input_sympton:\r\n",
        "      df_TestingData.at[1, symp] = 1\r\n",
        "    else:\r\n",
        "      df_TestingData.at[1, symp] = 0\r\n",
        "T_input_sympton = df_TestingData.iloc[:, : -1].values\r\n",
        "\r\n",
        "T_input_pred = classifier.predict(T_input_sympton)\r\n",
        "print(T_input_pred)"
      ],
      "execution_count": 52,
      "outputs": [
        {
          "output_type": "stream",
          "text": [
            "['Gastroenteritis']\n"
          ],
          "name": "stdout"
        }
      ]
    },
    {
      "cell_type": "code",
      "metadata": {
        "colab": {
          "base_uri": "https://localhost:8080/"
        },
        "id": "SIz-58BB_jLC",
        "outputId": "c20fda91-667a-4be9-e694-48243caa489e"
      },
      "source": [
        "####   Decision tree implementation.\r\n",
        "# pred1=StringVar()\r\n",
        "def DecisionTree():\r\n",
        "## data preprocessing\r\n",
        "  df_p = pd.read_excel(\"/content/drive/MyDrive/ML Project/processedDisease.xlsx\") \r\n",
        "  length_df_p = len(df_p.columns)\r\n",
        "  df_main=df_p.iloc[:,1:length_df_p]\r\n",
        "#df_main = pd.read_csv(\"/content/training.csv\") \r\n",
        "#print(df_main.head())\r\n",
        "### Data Preprocessing \r\n",
        "  X = df_main.iloc[:, : -1].values\r\n",
        "  y = df_main.iloc[:, 131:132].values\r\n",
        "#print(X)\r\n",
        "#print(y)\r\n",
        "  from sklearn.model_selection import train_test_split\r\n",
        "\r\n",
        "  X_train, X_test, y_train, y_test = train_test_split(X,y,test_size = 0.30)\r\n",
        "\r\n",
        "\r\n",
        "  NameEn = 'sabid'\r\n",
        "  from sklearn import tree\r\n",
        "\r\n",
        "  clf3 = tree.DecisionTreeClassifier() \r\n",
        "  clf3 = clf3.fit(X_train,y_train)\r\n",
        "\r\n",
        "  from sklearn.metrics import classification_report,confusion_matrix,accuracy_score\r\n",
        "  y_pred=clf3.predict(X_test)\r\n",
        "  # print(\"Decision Tree\")\r\n",
        "  # print(\"Accuracy\")\r\n",
        "  # print(accuracy_score(y_test, y_pred))\r\n",
        "  # print(accuracy_score(y_test, y_pred,normalize=False))\r\n",
        "  # print(\"Confusion matrix\")\r\n",
        "  # conf_matrix=confusion_matrix(y_test,y_pred)\r\n",
        "  # print(conf_matrix)\r\n",
        "  return clf3 \r\n",
        "\r\n",
        "\r\n",
        "DecisionTree()"
      ],
      "execution_count": 53,
      "outputs": [
        {
          "output_type": "execute_result",
          "data": {
            "text/plain": [
              "DecisionTreeClassifier(ccp_alpha=0.0, class_weight=None, criterion='gini',\n",
              "                       max_depth=None, max_features=None, max_leaf_nodes=None,\n",
              "                       min_impurity_decrease=0.0, min_impurity_split=None,\n",
              "                       min_samples_leaf=1, min_samples_split=2,\n",
              "                       min_weight_fraction_leaf=0.0, presort='deprecated',\n",
              "                       random_state=None, splitter='best')"
            ]
          },
          "metadata": {
            "tags": []
          },
          "execution_count": 53
        }
      ]
    },
    {
      "cell_type": "code",
      "metadata": {
        "colab": {
          "base_uri": "https://localhost:8080/"
        },
        "id": "WSxtkGxaMuVg",
        "outputId": "fc6cad50-3368-4c66-e7c0-81c5dd7378f8"
      },
      "source": [
        "def randomforest():\r\n",
        "## data preprocessing\r\n",
        "  df_p = pd.read_excel(\"/content/drive/MyDrive/ML Project/processedDisease.xlsx\") \r\n",
        "  length_df_p = len(df_p.columns)\r\n",
        "  df_main=df_p.iloc[:,1:length_df_p]\r\n",
        "#df_main = pd.read_csv(\"/content/training.csv\") \r\n",
        "#print(df_main.head())\r\n",
        "### Data Preprocessing \r\n",
        "  X = df_main.iloc[:, : -1].values\r\n",
        "  y = df_main.iloc[:, 131:132].values\r\n",
        "#print(X)\r\n",
        "#print(y)\r\n",
        "  from sklearn.model_selection import train_test_split\r\n",
        "\r\n",
        "  X_train, X_test, y_train, y_test = train_test_split(X,y,test_size = 0.30)\r\n",
        "\r\n",
        "\r\n",
        "  from sklearn.ensemble import RandomForestClassifier\r\n",
        "  clf4 = RandomForestClassifier(n_estimators=100)\r\n",
        "  clf4 = clf4.fit(X,np.ravel(y))\r\n",
        "\r\n",
        "  # calculating accuracy \r\n",
        "  from sklearn.metrics import classification_report,confusion_matrix,accuracy_score\r\n",
        "  y_pred=clf4.predict(X_test)\r\n",
        "  # print(\"Random Forest\")\r\n",
        "  # print(\"Accuracy\")\r\n",
        "  # print(accuracy_score(y_test, y_pred))\r\n",
        "  # print(accuracy_score(y_test, y_pred,normalize=False))\r\n",
        "  # print(\"Confusion matrix\")\r\n",
        "  # conf_matrix=confusion_matrix(y_test,y_pred)\r\n",
        "  # print(conf_matrix)\r\n",
        "\r\n",
        "  return clf4\r\n",
        "randomforest()\r\n",
        "    "
      ],
      "execution_count": 55,
      "outputs": [
        {
          "output_type": "execute_result",
          "data": {
            "text/plain": [
              "RandomForestClassifier(bootstrap=True, ccp_alpha=0.0, class_weight=None,\n",
              "                       criterion='gini', max_depth=None, max_features='auto',\n",
              "                       max_leaf_nodes=None, max_samples=None,\n",
              "                       min_impurity_decrease=0.0, min_impurity_split=None,\n",
              "                       min_samples_leaf=1, min_samples_split=2,\n",
              "                       min_weight_fraction_leaf=0.0, n_estimators=100,\n",
              "                       n_jobs=None, oob_score=False, random_state=None,\n",
              "                       verbose=0, warm_start=False)"
            ]
          },
          "metadata": {
            "tags": []
          },
          "execution_count": 55
        }
      ]
    },
    {
      "cell_type": "code",
      "metadata": {
        "id": "ArG0b79PeHdA",
        "colab": {
          "base_uri": "https://localhost:8080/"
        },
        "outputId": "da3f979c-92f5-46f2-e35b-2886661df6d0"
      },
      "source": [
        "def NaiveBayes():\r\n",
        "## data preprocessing\r\n",
        "  df_p = pd.read_excel(\"/content/drive/MyDrive/ML Project/processedDisease.xlsx\")\r\n",
        "  length_df_p = len(df_p.columns)\r\n",
        "  df_main=df_p.iloc[:,1:length_df_p]\r\n",
        "#df_main = pd.read_csv(\"/content/training.csv\") \r\n",
        "#print(df_main.head())\r\n",
        "### Data Preprocessing \r\n",
        "  X = df_main.iloc[:, : -1].values\r\n",
        "  y = df_main.iloc[:, 131:132].values\r\n",
        "#print(X)\r\n",
        "#print(y)\r\n",
        "  from sklearn.model_selection import train_test_split\r\n",
        "  X_train, X_test, y_train, y_test = train_test_split(X,y,test_size = 0.30)\r\n",
        "\r\n",
        "  from sklearn.naive_bayes import GaussianNB\r\n",
        "  gnb = GaussianNB()\r\n",
        "  gnb=gnb.fit(X,np.ravel(y))\r\n",
        "\r\n",
        "  from sklearn.metrics import classification_report,confusion_matrix,accuracy_score\r\n",
        "  y_pred=gnb.predict(X_test)\r\n",
        "  # print(\"Naive Bayes\")\r\n",
        "  # print(\"Accuracy\")\r\n",
        "  # print(accuracy_score(y_test, y_pred))\r\n",
        "  # print(accuracy_score(y_test, y_pred,normalize=False))\r\n",
        "  # print(\"Confusion matrix\")\r\n",
        "  # conf_matrix=confusion_matrix(y_test,y_pred)\r\n",
        "  # print(conf_matrix)\r\n",
        "  return gnb\r\n",
        "NaiveBayes()"
      ],
      "execution_count": 56,
      "outputs": [
        {
          "output_type": "execute_result",
          "data": {
            "text/plain": [
              "GaussianNB(priors=None, var_smoothing=1e-09)"
            ]
          },
          "metadata": {
            "tags": []
          },
          "execution_count": 56
        }
      ]
    },
    {
      "cell_type": "code",
      "metadata": {
        "id": "wtI3NVmLSvTh",
        "colab": {
          "base_uri": "https://localhost:8080/"
        },
        "outputId": "133948ba-8d2f-4d3c-fea2-a0e4dbf915a2"
      },
      "source": [
        "## data preprocessing\r\n",
        "df_p = pd.read_excel(\"/content/drive/MyDrive/ML Project/processedDisease.xlsx\")\r\n",
        "length_df_p = len(df_p.columns)\r\n",
        "df_main=df_p.iloc[:,1:length_df_p]\r\n",
        "#df_main = pd.read_csv(\"/content/training.csv\") \r\n",
        "#print(df_main.head())\r\n",
        "### Data Preprocessing \r\n",
        "X = df_main.iloc[:, : -1].values\r\n",
        "y = df_main.iloc[:, 131:132].values\r\n",
        "#print(X)\r\n",
        "#print(y)\r\n",
        "from sklearn.model_selection import train_test_split\r\n",
        "X_train, X_test, y_train, y_test = train_test_split(X,y,test_size = 0.30)\r\n",
        "\r\n",
        "#create the sub models\r\n",
        "estimators = []\r\n",
        "model1 = DecisionTree()\r\n",
        "estimators.append(('DecTree', model1))\r\n",
        "model2 = NaiveBayes()\r\n",
        "estimators.append(('bayes', model2))\r\n",
        "model3 = randomforest()\r\n",
        "estimators.append(('forest', model3))\r\n",
        "# create the ensemble model\r\n",
        "from sklearn.ensemble import VotingClassifier\r\n",
        "ensemble = VotingClassifier(estimators)\r\n",
        "\r\n",
        "#fit model to training data\r\n",
        "ensemble.fit(X_train, y_train)\r\n",
        "#test our model on the test data\r\n",
        "ensemble.score(X_test, y_test)\r\n",
        "\r\n",
        "\r\n",
        "##########################################################\r\n",
        "#### testing with real life input data on prepared classifier\r\n",
        "# print(distinct_sympton)\r\n",
        "input_sympton=['vomiting', 'swelling_of_stomach', 'fatigue','loss_of_appetite']\r\n",
        "# ,'abdominal_pain','yellowing_of_eyes'\r\n",
        "# 'chills', 'watering_from_eyes']\r\n",
        "# input_sympton=['itching']\r\n",
        "\r\n",
        "for j in range(len(distinct_sympton)):\r\n",
        "    symp = distinct_sympton[j]\r\n",
        "    if symp in input_sympton:\r\n",
        "      df_TestingData.at[1, symp] = 1\r\n",
        "    else:\r\n",
        "      df_TestingData.at[1, symp] = 0\r\n",
        "T_input_sympton = df_TestingData.iloc[:, : -1].values\r\n",
        "\r\n",
        "\r\n",
        "T_input_tree = model1.predict(T_input_sympton)\r\n",
        "T_input_forest = model3.predict(T_input_sympton)\r\n",
        "T_input_byes = model2.predict(T_input_sympton)\r\n",
        "T_input_ensbl = ensemble.predict(T_input_sympton)\r\n",
        "print(T_input_tree)\r\n",
        "print(T_input_forest)\r\n",
        "print(T_input_byes)\r\n",
        "print(T_input_ensbl)"
      ],
      "execution_count": 64,
      "outputs": [
        {
          "output_type": "stream",
          "text": [
            "/usr/local/lib/python3.6/dist-packages/sklearn/preprocessing/_label.py:235: DataConversionWarning: A column-vector y was passed when a 1d array was expected. Please change the shape of y to (n_samples, ), for example using ravel().\n",
            "  y = column_or_1d(y, warn=True)\n",
            "/usr/local/lib/python3.6/dist-packages/sklearn/preprocessing/_label.py:268: DataConversionWarning: A column-vector y was passed when a 1d array was expected. Please change the shape of y to (n_samples, ), for example using ravel().\n",
            "  y = column_or_1d(y, warn=True)\n"
          ],
          "name": "stderr"
        },
        {
          "output_type": "stream",
          "text": [
            "['Alcoholic hepatitis']\n",
            "['Alcoholic hepatitis']\n",
            "['Hepatitis D']\n",
            "['Alcoholic hepatitis']\n"
          ],
          "name": "stdout"
        }
      ]
    },
    {
      "cell_type": "code",
      "metadata": {
        "id": "zdE5GcSy6-BJ"
      },
      "source": [
        ""
      ],
      "execution_count": null,
      "outputs": []
    }
  ]
}